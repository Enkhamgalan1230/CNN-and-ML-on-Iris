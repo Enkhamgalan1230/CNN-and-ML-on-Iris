{
  "nbformat": 4,
  "nbformat_minor": 0,
  "metadata": {
    "colab": {
      "provenance": [],
      "mount_file_id": "15kMHZrXMzxz532FlzYRxfpEQ-0Mf7Zve",
      "authorship_tag": "ABX9TyP+/2/XfMRJNsOp3yZrBWer",
      "include_colab_link": true
    },
    "kernelspec": {
      "name": "python3",
      "display_name": "Python 3"
    },
    "language_info": {
      "name": "python"
    }
  },
  "cells": [
    {
      "cell_type": "markdown",
      "metadata": {
        "id": "view-in-github",
        "colab_type": "text"
      },
      "source": [
        "<a href=\"https://colab.research.google.com/github/Enkhamgalan1230/CO599---ML-projects/blob/main/GroupProj.ipynb\" target=\"_parent\"><img src=\"https://colab.research.google.com/assets/colab-badge.svg\" alt=\"Open In Colab\"/></a>"
      ]
    },
    {
      "cell_type": "markdown",
      "source": [
        "This is a ipynb File for Group project **CO559** **bold text**"
      ],
      "metadata": {
        "id": "3MPUAjHniX_n"
      }
    },
    {
      "cell_type": "code",
      "source": [
        "print(\"ayo\")"
      ],
      "metadata": {
        "colab": {
          "base_uri": "https://localhost:8080/"
        },
        "id": "nMLESuqaihY3",
        "outputId": "a3d838a1-f75d-476c-bc04-d1d86a185286"
      },
      "execution_count": 1,
      "outputs": [
        {
          "output_type": "stream",
          "name": "stdout",
          "text": [
            "ayo\n"
          ]
        }
      ]
    }
  ]
}