{
  "nbformat": 4,
  "nbformat_minor": 0,
  "metadata": {
    "colab": {
      "provenance": [],
      "include_colab_link": true
    },
    "kernelspec": {
      "name": "python3",
      "display_name": "Python 3"
    },
    "language_info": {
      "name": "python"
    }
  },
  "cells": [
    {
      "cell_type": "markdown",
      "metadata": {
        "id": "view-in-github",
        "colab_type": "text"
      },
      "source": [
        "<a href=\"https://colab.research.google.com/github/Enkhamgalan1230/CO599---ML-projects/blob/main/GroupProj.ipynb\" target=\"_parent\"><img src=\"https://colab.research.google.com/assets/colab-badge.svg\" alt=\"Open In Colab\"/></a>"
      ]
    },
    {
      "cell_type": "markdown",
      "source": [
        "This is a ipynb File for Group project **CO559** **bold text**"
      ],
      "metadata": {
        "id": "3MPUAjHniX_n"
      }
    },
    {
      "cell_type": "code",
      "source": [
        "print(\"ayo\")\n",
        "\n",
        "print(\"hi\")\n",
        "print(\"M the Best\")"
      ],
      "metadata": {
        "colab": {
          "base_uri": "https://localhost:8080/"
        },
        "id": "nMLESuqaihY3",
        "outputId": "26103c8d-6083-4518-86af-1b6082f94868"
      },
      "execution_count": 1,
      "outputs": [
        {
          "output_type": "stream",
          "name": "stdout",
          "text": [
            "ayo\n",
            "hi\n",
            "M the Best\n"
          ]
        }
      ]
    },
    {
      "cell_type": "code",
      "source": [],
      "metadata": {
        "id": "HUMBvm-ZmU11"
      },
      "execution_count": null,
      "outputs": []
    }
  ]
}